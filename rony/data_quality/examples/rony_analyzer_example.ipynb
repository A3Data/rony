{
 "cells": [
  {
   "cell_type": "markdown",
   "id": "2e536555",
   "metadata": {},
   "source": [
    "# Rony Data Quality - Analyzer example"
   ]
  },
  {
   "cell_type": "code",
   "execution_count": 1,
   "id": "b28f9afa",
   "metadata": {
    "scrolled": true
   },
   "outputs": [
    {
     "name": "stderr",
     "output_type": "stream",
     "text": [
      "Please set env variable SPARK_VERSION\n"
     ]
    }
   ],
   "source": [
    "import pydeequ\n",
    "\n",
    "from pyspark import SparkFiles\n",
    "from pyspark.sql import SparkSession\n",
    "\n",
    "from rony.data_quality import Analyzer, DataQuality"
   ]
  },
  {
   "cell_type": "markdown",
   "id": "74a7baab",
   "metadata": {},
   "source": [
    "### Create a SparkSession with PyDeequ and Delta jars from maven"
   ]
  },
  {
   "cell_type": "code",
   "execution_count": 2,
   "id": "eb1b2484",
   "metadata": {
    "scrolled": true
   },
   "outputs": [],
   "source": [
    "spark = DataQuality.create_deequ_delta_SparkSession()"
   ]
  },
  {
   "cell_type": "markdown",
   "id": "cca9fff8",
   "metadata": {},
   "source": [
    "### Download *titanic* data from the web"
   ]
  },
  {
   "cell_type": "code",
   "execution_count": 3,
   "id": "d0a899d7",
   "metadata": {
    "scrolled": true
   },
   "outputs": [],
   "source": [
    "url = \"https://raw.githubusercontent.com/neylsoncrepalde/titanic_data_with_semicolon/main/titanic.csv\"\n",
    "spark.sparkContext.addFile(url)\n",
    "df = (\n",
    "    spark\n",
    "    .read\n",
    "    .csv(\"file://\" + SparkFiles.get(\"titanic.csv\"), header=True, inferSchema=True, sep=\";\")\n",
    ")"
   ]
  },
  {
   "cell_type": "code",
   "execution_count": 4,
   "id": "3d467c7a",
   "metadata": {
    "scrolled": false
   },
   "outputs": [
    {
     "name": "stdout",
     "output_type": "stream",
     "text": [
      "+-----------+--------+------+--------------------+------+----+-----+-----+----------------+-------+-----+--------+\n",
      "|PassengerId|Survived|Pclass|                Name|   Sex| Age|SibSp|Parch|          Ticket|   Fare|Cabin|Embarked|\n",
      "+-----------+--------+------+--------------------+------+----+-----+-----+----------------+-------+-----+--------+\n",
      "|          1|       0|     3|Braund, Mr. Owen ...|  male|22.0|    1|    0|       A/5 21171|   7.25| null|       S|\n",
      "|          2|       1|     1|Cumings, Mrs. Joh...|female|38.0|    1|    0|        PC 17599|71.2833|  C85|       C|\n",
      "|          3|       1|     3|Heikkinen, Miss. ...|female|26.0|    0|    0|STON/O2. 3101282|  7.925| null|       S|\n",
      "|          4|       1|     1|Futrelle, Mrs. Ja...|female|35.0|    1|    0|          113803|   53.1| C123|       S|\n",
      "|          5|       0|     3|Allen, Mr. Willia...|  male|35.0|    0|    0|          373450|   8.05| null|       S|\n",
      "|          6|       0|     3|    Moran, Mr. James|  male|null|    0|    0|          330877| 8.4583| null|       Q|\n",
      "|          7|       0|     1|McCarthy, Mr. Tim...|  male|54.0|    0|    0|           17463|51.8625|  E46|       S|\n",
      "|          8|       0|     3|Palsson, Master. ...|  male| 2.0|    3|    1|          349909| 21.075| null|       S|\n",
      "|          9|       1|     3|Johnson, Mrs. Osc...|female|27.0|    0|    2|          347742|11.1333| null|       S|\n",
      "|         10|       1|     2|Nasser, Mrs. Nich...|female|14.0|    1|    0|          237736|30.0708| null|       C|\n",
      "|         11|       1|     3|Sandstrom, Miss. ...|female| 4.0|    1|    1|         PP 9549|   16.7|   G6|       S|\n",
      "|         12|       1|     1|Bonnell, Miss. El...|female|58.0|    0|    0|          113783|  26.55| C103|       S|\n",
      "|         13|       0|     3|Saundercock, Mr. ...|  male|20.0|    0|    0|       A/5. 2151|   8.05| null|       S|\n",
      "|         14|       0|     3|Andersson, Mr. An...|  male|39.0|    1|    5|          347082| 31.275| null|       S|\n",
      "|         15|       0|     3|Vestrom, Miss. Hu...|female|14.0|    0|    0|          350406| 7.8542| null|       S|\n",
      "|         16|       1|     2|Hewlett, Mrs. (Ma...|female|55.0|    0|    0|          248706|   16.0| null|       S|\n",
      "|         17|       0|     3|Rice, Master. Eugene|  male| 2.0|    4|    1|          382652| 29.125| null|       Q|\n",
      "|         18|       1|     2|Williams, Mr. Cha...|  male|null|    0|    0|          244373|   13.0| null|       S|\n",
      "|         19|       0|     3|Vander Planke, Mr...|female|31.0|    1|    0|          345763|   18.0| null|       S|\n",
      "|         20|       1|     3|Masselmani, Mrs. ...|female|null|    0|    0|            2649|  7.225| null|       C|\n",
      "+-----------+--------+------+--------------------+------+----+-----+-----+----------------+-------+-----+--------+\n",
      "only showing top 20 rows\n",
      "\n"
     ]
    }
   ],
   "source": [
    "df.show()"
   ]
  },
  {
   "cell_type": "markdown",
   "id": "4e2abcb6",
   "metadata": {},
   "source": [
    "### Write job configurations yaml file"
   ]
  },
  {
   "cell_type": "code",
   "execution_count": 5,
   "id": "2d8b2d50-847e-4dde-b5d6-bb8730848a48",
   "metadata": {
    "scrolled": true
   },
   "outputs": [
    {
     "name": "stdout",
     "output_type": "stream",
     "text": [
      "Writing analyzer_configs.yaml\n"
     ]
    }
   ],
   "source": [
    "%%writefile analyzer_configs.yaml\n",
    "columns:\n",
    "    PassengerId: [Completeness]\n",
    "    Age: [Completeness, Mean, StandardDeviation, Minimum, Maximum, Sum, Entropy]\n",
    "    Sex: [Completeness, ApproxCountDistinct, Distinctness]\n",
    "    Fare: [Completeness, Mean, StandardDeviation]\n",
    "    Pclass: [DataType]\n",
    "    Survived: [Histogram]\n",
    "    Name: [MaxLength, MinLength]\n",
    "metrics:\n",
    "    Correlation: \n",
    "        - [Fare, Age]\n",
    "        - [Fare, Survived]\n",
    "    Compliance: \n",
    "        - [Age, \"Age>40.2\"]\n",
    "    PatternMatch: \n",
    "        - [Name, \"M(r|rs|iss).\"]\n",
    "    ApproxQuantiles: \n",
    "        - [Age, '0.5', '0.25', '0.75']\n",
    "        - [Fare, '0.5', '0.25', '0.75']\n",
    "    Uniqueness:\n",
    "        - [PassengerId]\n",
    "        - [Name,Sex]\n",
    "        - [Ticket]\n",
    "    UniqueValueRatio:\n",
    "        - [PassengerId]\n",
    "        - [Name,Sex]"
   ]
  },
  {
   "cell_type": "markdown",
   "id": "af76cd09",
   "metadata": {},
   "source": [
    "If you have experience with PyDeequ library, you can pass an *AnalysisRunner* statement as a string. For now, it must be a \"one liner\" expression:"
   ]
  },
  {
   "cell_type": "code",
   "execution_count": 6,
   "id": "aa28b1ee",
   "metadata": {
    "scrolled": true
   },
   "outputs": [],
   "source": [
    "string_expression = 'AnalysisRunner(spark).onData(df).addAnalyzer(Size()).addAnalyzer(Completeness(\"Age\")).addAnalyzer(Mean(\"Age\")).addAnalyzer(StandardDeviation(\"Age\")).addAnalyzer(Minimum(\"Age\")).addAnalyzer(Maximum(\"Age\")).addAnalyzer(Completeness(\"Sex\")).addAnalyzer(ApproxCountDistinct(\"Sex\")).addAnalyzer(ApproxQuantile(\"Age\", 0.5)).addAnalyzer(UniqueValueRatio([\"PassengerId\", \"Sex\"])).run()'"
   ]
  },
  {
   "cell_type": "markdown",
   "id": "2db25e3d",
   "metadata": {},
   "source": [
    "### Instantiate Analyzer Class"
   ]
  },
  {
   "cell_type": "code",
   "execution_count": 7,
   "id": "e5d4f770",
   "metadata": {
    "scrolled": true
   },
   "outputs": [],
   "source": [
    "analyzer = Analyzer(spark)"
   ]
  },
  {
   "cell_type": "markdown",
   "id": "5f096737",
   "metadata": {},
   "source": [
    "### Run the analyzer job and show results"
   ]
  },
  {
   "cell_type": "code",
   "execution_count": 8,
   "id": "2e7287d9",
   "metadata": {
    "scrolled": false
   },
   "outputs": [],
   "source": [
    "res_from_file = analyzer.run(df, \"analyzer_configs.yaml\")"
   ]
  },
  {
   "cell_type": "code",
   "execution_count": 9,
   "id": "996b2891",
   "metadata": {
    "scrolled": false
   },
   "outputs": [
    {
     "name": "stdout",
     "output_type": "stream",
     "text": [
      "+-----------+-------------+--------------------------+--------------------+-------------------+\n",
      "|entity     |instance     |name                      |value               |dt_update          |\n",
      "+-----------+-------------+--------------------------+--------------------+-------------------+\n",
      "|Column     |Age          |ApproxQuantiles-0.25      |20.0                |2022-07-06-23-24-56|\n",
      "|Column     |Age          |ApproxQuantiles-0.5       |28.0                |2022-07-06-23-24-56|\n",
      "|Column     |Age          |ApproxQuantiles-0.75      |38.0                |2022-07-06-23-24-56|\n",
      "|Column     |Age          |Completeness              |0.8013468013468014  |2022-07-06-23-24-56|\n",
      "|Column     |Age          |Compliance                |0.16835016835016836 |2022-07-06-23-24-56|\n",
      "|Column     |Age          |Entropy                   |4.045611490075093   |2022-07-06-23-24-56|\n",
      "|Column     |Age          |Maximum                   |80.0                |2022-07-06-23-24-56|\n",
      "|Column     |Age          |Mean                      |29.69911764705882   |2022-07-06-23-24-56|\n",
      "|Column     |Age          |Minimum                   |0.42                |2022-07-06-23-24-56|\n",
      "|Column     |Age          |StandardDeviation         |14.51632115081731   |2022-07-06-23-24-56|\n",
      "|Column     |Age          |Sum                       |21205.17            |2022-07-06-23-24-56|\n",
      "|Column     |Fare         |ApproxQuantiles-0.25      |7.8958              |2022-07-06-23-24-56|\n",
      "|Column     |Fare         |ApproxQuantiles-0.5       |14.4542             |2022-07-06-23-24-56|\n",
      "|Column     |Fare         |ApproxQuantiles-0.75      |30.5                |2022-07-06-23-24-56|\n",
      "|Column     |Fare         |Completeness              |1.0                 |2022-07-06-23-24-56|\n",
      "|Column     |Fare         |Mean                      |32.2042079685746    |2022-07-06-23-24-56|\n",
      "|Column     |Fare         |StandardDeviation         |49.6655344447741    |2022-07-06-23-24-56|\n",
      "|Column     |Name         |MaxLength                 |82.0                |2022-07-06-23-24-56|\n",
      "|Column     |Name         |MinLength                 |12.0                |2022-07-06-23-24-56|\n",
      "|Column     |Name         |PatternMatch              |0.0                 |2022-07-06-23-24-56|\n",
      "|Column     |PassengerId  |Completeness              |1.0                 |2022-07-06-23-24-56|\n",
      "|Column     |PassengerId  |UniqueValueRatio          |1.0                 |2022-07-06-23-24-56|\n",
      "|Column     |PassengerId  |Uniqueness                |1.0                 |2022-07-06-23-24-56|\n",
      "|Column     |Pclass       |Histogram.abs.Boolean     |0.0                 |2022-07-06-23-24-56|\n",
      "|Column     |Pclass       |Histogram.abs.Fractional  |0.0                 |2022-07-06-23-24-56|\n",
      "|Column     |Pclass       |Histogram.abs.Integral    |891.0               |2022-07-06-23-24-56|\n",
      "|Column     |Pclass       |Histogram.abs.String      |0.0                 |2022-07-06-23-24-56|\n",
      "|Column     |Pclass       |Histogram.abs.Unknown     |0.0                 |2022-07-06-23-24-56|\n",
      "|Column     |Pclass       |Histogram.bins            |5.0                 |2022-07-06-23-24-56|\n",
      "|Column     |Pclass       |Histogram.ratio.Boolean   |0.0                 |2022-07-06-23-24-56|\n",
      "|Column     |Pclass       |Histogram.ratio.Fractional|0.0                 |2022-07-06-23-24-56|\n",
      "|Column     |Pclass       |Histogram.ratio.Integral  |1.0                 |2022-07-06-23-24-56|\n",
      "|Column     |Pclass       |Histogram.ratio.String    |0.0                 |2022-07-06-23-24-56|\n",
      "|Column     |Pclass       |Histogram.ratio.Unknown   |0.0                 |2022-07-06-23-24-56|\n",
      "|Column     |Sex          |ApproxCountDistinct       |2.0                 |2022-07-06-23-24-56|\n",
      "|Column     |Sex          |Completeness              |1.0                 |2022-07-06-23-24-56|\n",
      "|Column     |Sex          |Distinctness              |0.002244668911335578|2022-07-06-23-24-56|\n",
      "|Column     |Survived     |Histogram.abs.0           |549.0               |2022-07-06-23-24-56|\n",
      "|Column     |Survived     |Histogram.abs.1           |342.0               |2022-07-06-23-24-56|\n",
      "|Column     |Survived     |Histogram.bins            |2.0                 |2022-07-06-23-24-56|\n",
      "|Column     |Survived     |Histogram.ratio.0         |0.6161616161616161  |2022-07-06-23-24-56|\n",
      "|Column     |Survived     |Histogram.ratio.1         |0.3838383838383838  |2022-07-06-23-24-56|\n",
      "|Column     |Ticket       |Uniqueness                |0.6139169472502806  |2022-07-06-23-24-56|\n",
      "|Dataset    |*            |Size                      |891.0               |2022-07-06-23-24-56|\n",
      "|Mutlicolumn|Fare,Age     |Correlation               |0.09606669176903912 |2022-07-06-23-24-56|\n",
      "|Mutlicolumn|Fare,Survived|Correlation               |0.2573065223849626  |2022-07-06-23-24-56|\n",
      "|Mutlicolumn|Name,Sex     |UniqueValueRatio          |1.0                 |2022-07-06-23-24-56|\n",
      "|Mutlicolumn|Name,Sex     |Uniqueness                |1.0                 |2022-07-06-23-24-56|\n",
      "+-----------+-------------+--------------------------+--------------------+-------------------+\n",
      "\n"
     ]
    }
   ],
   "source": [
    "res_from_file.show(truncate=False, n=50)"
   ]
  },
  {
   "cell_type": "markdown",
   "id": "501cea3f",
   "metadata": {},
   "source": [
    "### Run analyzer job from string expression"
   ]
  },
  {
   "cell_type": "code",
   "execution_count": 10,
   "id": "bb7fa942",
   "metadata": {},
   "outputs": [],
   "source": [
    "res_from_expression = analyzer.run(df, string_expression)"
   ]
  },
  {
   "cell_type": "code",
   "execution_count": 11,
   "id": "1a7ee91f",
   "metadata": {},
   "outputs": [
    {
     "name": "stdout",
     "output_type": "stream",
     "text": [
      "+-----------+---------------+-------------------+------------------+-------------------+\n",
      "|entity     |instance       |name               |value             |dt_update          |\n",
      "+-----------+---------------+-------------------+------------------+-------------------+\n",
      "|Column     |Age            |ApproxQuantile-0.5 |28.0              |2022-07-06-23-24-59|\n",
      "|Column     |Age            |Completeness       |0.8013468013468014|2022-07-06-23-24-59|\n",
      "|Column     |Age            |Maximum            |80.0              |2022-07-06-23-24-59|\n",
      "|Column     |Age            |Mean               |29.69911764705882 |2022-07-06-23-24-59|\n",
      "|Column     |Age            |Minimum            |0.42              |2022-07-06-23-24-59|\n",
      "|Column     |Age            |StandardDeviation  |14.51632115081731 |2022-07-06-23-24-59|\n",
      "|Column     |Sex            |ApproxCountDistinct|2.0               |2022-07-06-23-24-59|\n",
      "|Column     |Sex            |Completeness       |1.0               |2022-07-06-23-24-59|\n",
      "|Dataset    |*              |Size               |891.0             |2022-07-06-23-24-59|\n",
      "|Mutlicolumn|PassengerId,Sex|UniqueValueRatio   |1.0               |2022-07-06-23-24-59|\n",
      "+-----------+---------------+-------------------+------------------+-------------------+\n",
      "\n"
     ]
    }
   ],
   "source": [
    "res_from_expression.show(truncate=False)"
   ]
  },
  {
   "cell_type": "markdown",
   "id": "4e63a03f",
   "metadata": {},
   "source": [
    "### Write dataframe output as a Delta Table"
   ]
  },
  {
   "cell_type": "code",
   "execution_count": 12,
   "id": "ad2080c0",
   "metadata": {
    "scrolled": true
   },
   "outputs": [],
   "source": [
    "analyzer.write_output(res_from_file, \"./dataqualityoutput\", delta=True, mode=\"append\")"
   ]
  },
  {
   "cell_type": "markdown",
   "id": "c05cc09e",
   "metadata": {},
   "source": [
    "Check if the results were correctly written."
   ]
  },
  {
   "cell_type": "code",
   "execution_count": 13,
   "id": "58673876",
   "metadata": {
    "scrolled": false
   },
   "outputs": [
    {
     "name": "stdout",
     "output_type": "stream",
     "text": [
      "+-----------+-------------+--------------------+--------------------+-------------------+\n",
      "|     entity|     instance|                name|               value|          dt_update|\n",
      "+-----------+-------------+--------------------+--------------------+-------------------+\n",
      "|     Column|          Age|ApproxQuantiles-0.25|                20.0|2022-07-06-23-24-56|\n",
      "|     Column|          Age| ApproxQuantiles-0.5|                28.0|2022-07-06-23-24-56|\n",
      "|     Column|          Age|ApproxQuantiles-0.75|                38.0|2022-07-06-23-24-56|\n",
      "|     Column|          Age|        Completeness|  0.8013468013468014|2022-07-06-23-24-56|\n",
      "|     Column|          Age|          Compliance| 0.16835016835016836|2022-07-06-23-24-56|\n",
      "|     Column|          Age|             Entropy|   4.045611490075093|2022-07-06-23-24-56|\n",
      "|     Column|          Age|             Maximum|                80.0|2022-07-06-23-24-56|\n",
      "|     Column|          Age|                Mean|   29.69911764705882|2022-07-06-23-24-56|\n",
      "|     Column|          Age|             Minimum|                0.42|2022-07-06-23-24-56|\n",
      "|     Column|          Age|   StandardDeviation|   14.51632115081731|2022-07-06-23-24-56|\n",
      "|     Column|          Age|                 Sum|            21205.17|2022-07-06-23-24-56|\n",
      "|     Column|         Fare|ApproxQuantiles-0.25|              7.8958|2022-07-06-23-24-56|\n",
      "|     Column|         Fare| ApproxQuantiles-0.5|             14.4542|2022-07-06-23-24-56|\n",
      "|     Column|         Fare|ApproxQuantiles-0.75|                30.5|2022-07-06-23-24-56|\n",
      "|     Column|         Fare|        Completeness|                 1.0|2022-07-06-23-24-56|\n",
      "|     Column|         Fare|                Mean|    32.2042079685746|2022-07-06-23-24-56|\n",
      "|     Column|         Fare|   StandardDeviation|    49.6655344447741|2022-07-06-23-24-56|\n",
      "|     Column|         Name|           MaxLength|                82.0|2022-07-06-23-24-56|\n",
      "|     Column|         Name|           MinLength|                12.0|2022-07-06-23-24-56|\n",
      "|     Column|         Name|        PatternMatch|                 0.0|2022-07-06-23-24-56|\n",
      "|     Column|  PassengerId|        Completeness|                 1.0|2022-07-06-23-24-56|\n",
      "|     Column|  PassengerId|    UniqueValueRatio|                 1.0|2022-07-06-23-24-56|\n",
      "|     Column|  PassengerId|          Uniqueness|                 1.0|2022-07-06-23-24-56|\n",
      "|     Column|       Pclass|Histogram.abs.Boo...|                 0.0|2022-07-06-23-24-56|\n",
      "|     Column|       Pclass|Histogram.abs.Fra...|                 0.0|2022-07-06-23-24-56|\n",
      "|     Column|       Pclass|Histogram.abs.Int...|               891.0|2022-07-06-23-24-56|\n",
      "|     Column|       Pclass|Histogram.abs.String|                 0.0|2022-07-06-23-24-56|\n",
      "|     Column|       Pclass|Histogram.abs.Unk...|                 0.0|2022-07-06-23-24-56|\n",
      "|     Column|       Pclass|      Histogram.bins|                 5.0|2022-07-06-23-24-56|\n",
      "|     Column|       Pclass|Histogram.ratio.B...|                 0.0|2022-07-06-23-24-56|\n",
      "|     Column|       Pclass|Histogram.ratio.F...|                 0.0|2022-07-06-23-24-56|\n",
      "|     Column|       Pclass|Histogram.ratio.I...|                 1.0|2022-07-06-23-24-56|\n",
      "|     Column|       Pclass|Histogram.ratio.S...|                 0.0|2022-07-06-23-24-56|\n",
      "|     Column|       Pclass|Histogram.ratio.U...|                 0.0|2022-07-06-23-24-56|\n",
      "|     Column|          Sex| ApproxCountDistinct|                 2.0|2022-07-06-23-24-56|\n",
      "|     Column|          Sex|        Completeness|                 1.0|2022-07-06-23-24-56|\n",
      "|     Column|          Sex|        Distinctness|0.002244668911335578|2022-07-06-23-24-56|\n",
      "|     Column|     Survived|     Histogram.abs.0|               549.0|2022-07-06-23-24-56|\n",
      "|     Column|     Survived|     Histogram.abs.1|               342.0|2022-07-06-23-24-56|\n",
      "|     Column|     Survived|      Histogram.bins|                 2.0|2022-07-06-23-24-56|\n",
      "|     Column|     Survived|   Histogram.ratio.0|  0.6161616161616161|2022-07-06-23-24-56|\n",
      "|     Column|     Survived|   Histogram.ratio.1|  0.3838383838383838|2022-07-06-23-24-56|\n",
      "|     Column|       Ticket|          Uniqueness|  0.6139169472502806|2022-07-06-23-24-56|\n",
      "|    Dataset|            *|                Size|               891.0|2022-07-06-23-24-56|\n",
      "|Mutlicolumn|     Fare,Age|         Correlation| 0.09606669176903912|2022-07-06-23-24-56|\n",
      "|Mutlicolumn|Fare,Survived|         Correlation|  0.2573065223849626|2022-07-06-23-24-56|\n",
      "|Mutlicolumn|     Name,Sex|    UniqueValueRatio|                 1.0|2022-07-06-23-24-56|\n",
      "|Mutlicolumn|     Name,Sex|          Uniqueness|                 1.0|2022-07-06-23-24-56|\n",
      "|     Column|          Age|ApproxQuantiles-0.25|                20.0|2022-07-06-23-08-11|\n",
      "|     Column|          Age| ApproxQuantiles-0.5|                28.0|2022-07-06-23-08-11|\n",
      "+-----------+-------------+--------------------+--------------------+-------------------+\n",
      "only showing top 50 rows\n",
      "\n"
     ]
    }
   ],
   "source": [
    "spark.read.parquet(\"dataqualityoutput/\").show(50)"
   ]
  }
 ],
 "metadata": {
  "kernelspec": {
   "display_name": "Python 3",
   "language": "python",
   "name": "python3"
  },
  "language_info": {
   "codemirror_mode": {
    "name": "ipython",
    "version": 3
   },
   "file_extension": ".py",
   "mimetype": "text/x-python",
   "name": "python",
   "nbconvert_exporter": "python",
   "pygments_lexer": "ipython3",
   "version": "3.9.5"
  }
 },
 "nbformat": 4,
 "nbformat_minor": 5
}
